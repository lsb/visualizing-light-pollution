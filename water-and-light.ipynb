{
 "cells": [
  {
   "cell_type": "code",
   "execution_count": 1,
   "metadata": {},
   "outputs": [
    {
     "name": "stdout",
     "output_type": "stream",
     "text": [
      "Requirement already satisfied: rasterio in /opt/conda/lib/python3.7/site-packages (1.1.3)\n",
      "Requirement already satisfied: numpy in /opt/conda/lib/python3.7/site-packages (from rasterio) (1.17.3)\n",
      "Requirement already satisfied: click-plugins in /opt/conda/lib/python3.7/site-packages (from rasterio) (1.1.1)\n",
      "Requirement already satisfied: snuggs>=1.4.1 in /opt/conda/lib/python3.7/site-packages (from rasterio) (1.4.7)\n",
      "Requirement already satisfied: cligj>=0.5 in /opt/conda/lib/python3.7/site-packages (from rasterio) (0.5.0)\n",
      "Requirement already satisfied: click<8,>=4.0 in /opt/conda/lib/python3.7/site-packages (from rasterio) (7.0)\n",
      "Requirement already satisfied: attrs in /opt/conda/lib/python3.7/site-packages (from rasterio) (19.3.0)\n",
      "Requirement already satisfied: affine in /opt/conda/lib/python3.7/site-packages (from rasterio) (2.3.0)\n",
      "Requirement already satisfied: pyparsing>=2.1.6 in /opt/conda/lib/python3.7/site-packages (from snuggs>=1.4.1->rasterio) (2.4.4)\n",
      "Requirement already satisfied: mercantile in /opt/conda/lib/python3.7/site-packages (1.1.2)\n",
      "Requirement already satisfied: click>=3.0 in /opt/conda/lib/python3.7/site-packages (from mercantile) (7.0)\n"
     ]
    }
   ],
   "source": [
    "!pip install rasterio\n",
    "!pip install mercantile\n",
    "import numpy as np\n",
    "import pandas as pd\n",
    "import imageio\n",
    "import rasterio as rio\n",
    "from rasterio.warp import calculate_default_transform, reproject, Resampling\n",
    "import mercantile"
   ]
  },
  {
   "cell_type": "code",
   "execution_count": null,
   "metadata": {},
   "outputs": [],
   "source": []
  },
  {
   "cell_type": "code",
   "execution_count": 2,
   "metadata": {},
   "outputs": [],
   "source": [
    "light_pollution = np.zeros((65536,65536), dtype=np.float16)"
   ]
  },
  {
   "cell_type": "code",
   "execution_count": null,
   "metadata": {},
   "outputs": [],
   "source": []
  },
  {
   "cell_type": "code",
   "execution_count": 3,
   "metadata": {},
   "outputs": [],
   "source": [
    "wa2015 = rio.open('World_Atlas_2015.tif')"
   ]
  },
  {
   "cell_type": "code",
   "execution_count": 4,
   "metadata": {},
   "outputs": [
    {
     "name": "stdout",
     "output_type": "stream",
     "text": [
      "65535\n",
      "46502\n"
     ]
    }
   ],
   "source": [
    "(xTileMax,yTileMax,zTileMax) = mercantile.tile(*(wa2015.transform * (wa2015.width, wa2015.height)) + (16,))\n",
    "print(xTileMax)\n",
    "print(yTileMax)"
   ]
  },
  {
   "cell_type": "code",
   "execution_count": 5,
   "metadata": {},
   "outputs": [],
   "source": [
    "wa_z16 = np.zeros((yTileMax+1, xTileMax+1), dtype=np.float32)"
   ]
  },
  {
   "cell_type": "code",
   "execution_count": 6,
   "metadata": {},
   "outputs": [
    {
     "data": {
      "text/plain": [
       "LngLatBbox(west=179.9945068359375, south=-59.996239340364475, east=180.0, north=-59.99349233206086)"
      ]
     },
     "execution_count": 6,
     "metadata": {},
     "output_type": "execute_result"
    }
   ],
   "source": [
    "bottom_right_pixel = mercantile.bounds(xTileMax,yTileMax,zTileMax)\n",
    "upper_left_pixel = mercantile.bounds(0,0,zTileMax)\n",
    "bottom_right_pixel"
   ]
  },
  {
   "cell_type": "code",
   "execution_count": 7,
   "metadata": {},
   "outputs": [],
   "source": [
    "dst_transform, dst_width, dst_height = calculate_default_transform(\n",
    "    wa2015.crs,\n",
    "    {'init':'EPSG:3857'},\n",
    "    wa2015.width,\n",
    "    wa2015.height,\n",
    "    left=upper_left_pixel.west,\n",
    "    right=bottom_right_pixel.east,\n",
    "    top=upper_left_pixel.north,\n",
    "    bottom=bottom_right_pixel.south,\n",
    "    dst_width=xTileMax+1,\n",
    "    dst_height=yTileMax+1\n",
    ")"
   ]
  },
  {
   "cell_type": "code",
   "execution_count": null,
   "metadata": {},
   "outputs": [],
   "source": []
  },
  {
   "cell_type": "code",
   "execution_count": 8,
   "metadata": {},
   "outputs": [
    {
     "data": {
      "text/plain": [
       "(array([[0., 0., 0., ..., 0., 0., 0.],\n",
       "        [0., 0., 0., ..., 0., 0., 0.],\n",
       "        [0., 0., 0., ..., 0., 0., 0.],\n",
       "        ...,\n",
       "        [0., 0., 0., ..., 0., 0., 0.],\n",
       "        [0., 0., 0., ..., 0., 0., 0.],\n",
       "        [0., 0., 0., ..., 0., 0., 0.]], dtype=float32),\n",
       " Affine(611.483179193371, 0.0, -20037508.342789248,\n",
       "        0.0, -611.5068443825922, 20037508.342789277))"
      ]
     },
     "execution_count": 8,
     "metadata": {},
     "output_type": "execute_result"
    }
   ],
   "source": [
    "reproject(\n",
    "    wa2015.read(1),\n",
    "    wa_z16,\n",
    "    src_transform=wa2015.transform,\n",
    "    dst_transform=dst_transform,\n",
    "    src_crs=wa2015.crs,\n",
    "    dst_crs={'init': 'EPSG:3857'},\n",
    "    resampling=Resampling.lanczos\n",
    ")\n"
   ]
  },
  {
   "cell_type": "code",
   "execution_count": 9,
   "metadata": {},
   "outputs": [],
   "source": [
    "light_pollution[0:yTileMax+1,0:xTileMax+1] = wa_z16\n",
    "wa_z16 = None\n",
    "wa2015 = None"
   ]
  },
  {
   "cell_type": "code",
   "execution_count": 10,
   "metadata": {},
   "outputs": [
    {
     "data": {
      "text/plain": [
       "4.938"
      ]
     },
     "execution_count": 10,
     "metadata": {},
     "output_type": "execute_result"
    }
   ],
   "source": [
    "light_pollution[25334, 10480]"
   ]
  },
  {
   "cell_type": "code",
   "execution_count": 11,
   "metadata": {},
   "outputs": [],
   "source": [
    "#imageio.imwrite(\n",
    "#    './light-pollution.png',\n",
    "#    np.clip(\n",
    "#        np.round(30 * np.log1p( np.clip(light_pollution,0,32) * 1024, dtype=np.float16)),\n",
    "#        0,\n",
    "#        255\n",
    "#    ).astype(np.uint8))"
   ]
  },
  {
   "cell_type": "code",
   "execution_count": null,
   "metadata": {},
   "outputs": [],
   "source": []
  },
  {
   "cell_type": "code",
   "execution_count": null,
   "metadata": {},
   "outputs": [],
   "source": []
  },
  {
   "cell_type": "code",
   "execution_count": 12,
   "metadata": {},
   "outputs": [
    {
     "data": {
      "text/plain": [
       "array([  0.      ,  25.581287,  68.254974, 163.97266 , 200.76024 ,\n",
       "       230.85387 ], dtype=float32)"
      ]
     },
     "execution_count": 12,
     "metadata": {},
     "output_type": "execute_result"
    }
   ],
   "source": [
    "25 * np.log1p(np.array([0, 0.00174, 0.014, 0.688, 3, 10], dtype=np.float16) * 1024)"
   ]
  },
  {
   "cell_type": "code",
   "execution_count": null,
   "metadata": {},
   "outputs": [],
   "source": []
  },
  {
   "cell_type": "code",
   "execution_count": null,
   "metadata": {},
   "outputs": [],
   "source": []
  },
  {
   "cell_type": "code",
   "execution_count": 13,
   "metadata": {},
   "outputs": [],
   "source": [
    "water_blue = np.array([192.0, 224.0, 255.0, 255.0])\n",
    "white = np.array([255.0, 255.0, 255.0, 255.0])\n",
    "grey_haze = np.array([204.0, 192.0, 170.0, 255.0])"
   ]
  },
  {
   "cell_type": "code",
   "execution_count": 14,
   "metadata": {},
   "outputs": [],
   "source": [
    "world_water = np.zeros((65536,65536), dtype=np.float16)\n",
    "\n",
    "terrain_water_color = np.array([153.0, 179.0, 204.0, 255.0])\n",
    "\n",
    "for lon in range(256):\n",
    "    for lat in range(256):\n",
    "        image = imageio.imread(f\"./terrain-background/8/{lon}/{lat}.png\")\n",
    "        iswater = np.linalg.norm(image - terrain_water_color, axis=2, ord=2) < 8.57\n",
    "        world_water[(lat+0)*256:(lat+1)*256, (lon+0)*256:(lon+1)*256] = iswater\n",
    "\n",
    "#imageio.imwrite('./world-water.png', world_water.astype(np.uint8) * 255)"
   ]
  },
  {
   "cell_type": "code",
   "execution_count": null,
   "metadata": {},
   "outputs": [],
   "source": []
  },
  {
   "cell_type": "code",
   "execution_count": 15,
   "metadata": {},
   "outputs": [],
   "source": [
    "def zoomout2x2(aint):\n",
    "    return aint.reshape((aint.shape[0]//2,2,aint.shape[1]//2,2)).sum(axis=3).sum(axis=1) / 4\n"
   ]
  },
  {
   "cell_type": "code",
   "execution_count": 16,
   "metadata": {},
   "outputs": [],
   "source": [
    "#mipmaps\n",
    "light_zoomlevels = [0, 1, 2, 3, 4, 5, 6, light_pollution]\n",
    "water_zoomlevels = [0, 1, 2, 3, 4, 5, 6, world_water]\n",
    "\n",
    "for i in range(len(light_zoomlevels)-2,-1,-1):\n",
    "    light_zoomlevels[i] = zoomout2x2(light_zoomlevels[i+1])\n",
    "    water_zoomlevels[i] = zoomout2x2(water_zoomlevels[i+1])\n"
   ]
  },
  {
   "cell_type": "code",
   "execution_count": 17,
   "metadata": {},
   "outputs": [],
   "source": [
    "def mcdm2_to_greyscale(a):\n",
    "    return np.clip(\n",
    "        np.round(\n",
    "            30 * np.log1p( 1024 * np.clip(a,0,50) )\n",
    "        ),\n",
    "        0,\n",
    "        255)\n",
    "\n",
    "\n",
    "tile_size = 512\n",
    "\n",
    "linear_inverse_rgb_levels = np.array([[1 - i/255, 1 - i/255, 1 - i/255, 1] for i in range(256)])\n",
    "linear_alpha_levels = np.array([[1, 1, 1, i/255] for i in range(256)])\n",
    "\n",
    "grey_haze_palette = ((linear_alpha_levels ** 0.75) * grey_haze).round().astype(np.uint8)\n",
    "white_palette = (linear_inverse_rgb_levels * white).round().astype(np.uint8)\n",
    "blue_palette = (linear_inverse_rgb_levels * water_blue).round().astype(np.uint8)\n",
    "\n",
    "for z in range(len(light_zoomlevels)):\n",
    "    for lon in range(light_zoomlevels[z].shape[0]//tile_size):\n",
    "        for lat in range(light_zoomlevels[z].shape[0]//tile_size):\n",
    "            light_tile = light_zoomlevels[z][lat*tile_size:(lat+1)*tile_size, lon*tile_size:(lon+1)*tile_size]\n",
    "            water_tile = water_zoomlevels[z][lat*tile_size:(lat+1)*tile_size, lon*tile_size:(lon+1)*tile_size]\n",
    "            light_tile_normalized = mcdm2_to_greyscale(light_tile).astype(np.uint8)\n",
    "            water_tile_binarized = water_tile.round().astype(np.bool)\n",
    "            dark_blue_marble = np.where(np.expand_dims(water_tile_binarized,-1),\n",
    "                                        blue_palette[light_tile_normalized],\n",
    "                                        white_palette[light_tile_normalized])\n",
    "            grey_fade = grey_haze_palette[light_tile_normalized]\n",
    "            imageio.imwrite(f'./tiles/globe-{z}-{lon}-{lat}.png', dark_blue_marble)\n",
    "            imageio.imwrite(f'./tiles/greys-{z}-{lon}-{lat}.png', grey_fade)\n"
   ]
  },
  {
   "cell_type": "code",
   "execution_count": 18,
   "metadata": {},
   "outputs": [
    {
     "name": "stdout",
     "output_type": "stream",
     "text": [
      "mini tile size 256\n",
      "mini tile size 128\n",
      "mini tile size 64\n"
     ]
    }
   ],
   "source": [
    "for z in [8, 9, 10]:\n",
    "    mini_tile_size = tile_size // (2 ** (z-len(light_zoomlevels)+1))\n",
    "    print(f'mini tile size {mini_tile_size}')\n",
    "    for lon in range(light_zoomlevels[-1].shape[0]//mini_tile_size):\n",
    "        for lat in range(light_zoomlevels[-1].shape[0]//mini_tile_size):\n",
    "            light_tile = light_zoomlevels[-1][lat*mini_tile_size:(lat+1)*mini_tile_size,\n",
    "                                              lon*mini_tile_size:(lon+1)*mini_tile_size]\n",
    "            water_tile = water_zoomlevels[-1][lat*mini_tile_size:(lat+1)*mini_tile_size,\n",
    "                                              lon*mini_tile_size:(lon+1)*mini_tile_size]\n",
    "            light_tile_normalized = mcdm2_to_greyscale(light_tile).astype(np.uint8)\n",
    "            water_tile_binarized = water_tile.astype(np.bool)\n",
    "            dark_blue_marble = np.where(np.expand_dims(water_tile_binarized,-1),\n",
    "                                        blue_palette[light_tile_normalized],\n",
    "                                        white_palette[light_tile_normalized])\n",
    "            imageio.imwrite(f'./tiles/globe-{z}-{lon}-{lat}.png', dark_blue_marble)\n"
   ]
  },
  {
   "cell_type": "code",
   "execution_count": null,
   "metadata": {},
   "outputs": [],
   "source": []
  },
  {
   "cell_type": "code",
   "execution_count": null,
   "metadata": {},
   "outputs": [],
   "source": []
  }
 ],
 "metadata": {
  "kernelspec": {
   "display_name": "Python 3",
   "language": "python",
   "name": "python3"
  },
  "language_info": {
   "codemirror_mode": {
    "name": "ipython",
    "version": 3
   },
   "file_extension": ".py",
   "mimetype": "text/x-python",
   "name": "python",
   "nbconvert_exporter": "python",
   "pygments_lexer": "ipython3",
   "version": "3.7.3"
  }
 },
 "nbformat": 4,
 "nbformat_minor": 2
}
